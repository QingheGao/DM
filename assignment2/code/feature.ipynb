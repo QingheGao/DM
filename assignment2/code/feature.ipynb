{
 "cells": [
  {
   "cell_type": "code",
   "execution_count": null,
   "metadata": {},
   "outputs": [],
   "source": [
    "import pandas as pd\n",
    "import numpy as np\n",
    "import matplotlib.pyplot as plt\n",
    "import seaborn as sns\n",
    "plt.style.use('seaborn-darkgrid')\n",
    "import warnings\n",
    "warnings.filterwarnings('ignore')\n",
    "\n",
    "import time\n",
    "import argparse\n",
    "import gc\n",
    "import pandas\n",
    "import lightgbm"
   ]
  },
  {
   "cell_type": "code",
   "execution_count": null,
   "metadata": {},
   "outputs": [],
   "source": [
    "train = pd.read_csv('/Users/hernando/Desktop/datamining1/assign2/2nd-assignment-dmt-2020/training_set_VU_DM.csv',sep=',')\n"
   ]
  },
  {
   "cell_type": "code",
   "execution_count": null,
   "metadata": {},
   "outputs": [],
   "source": [
    "def missing_data_process(df,file):\n",
    "    \n",
    "    df['avg_comp_rate'] = df[['comp1_rate', 'comp2_rate', 'comp3_rate', 'comp4_rate', 'comp5_rate', 'comp6_rate', 'comp7_rate', 'comp8_rate']].mean(axis=1)\n",
    "    df = df.drop(['comp1_rate', \"comp1_inv\", \"comp1_rate_percent_diff\", 'comp2_rate', \"comp2_inv\", \"comp2_rate_percent_diff\", 'comp3_rate', \"comp3_inv\", \"comp3_rate_percent_diff\", 'comp4_rate', \"comp4_inv\", \"comp4_rate_percent_diff\", 'comp5_rate', \"comp5_inv\", \"comp5_rate_percent_diff\", 'comp6_rate', \"comp6_inv\", \"comp6_rate_percent_diff\", 'comp7_rate', \"comp7_inv\", \"comp7_rate_percent_diff\", 'comp8_rate', \"comp8_inv\", \"comp8_rate_percent_diff\"], axis = 1)\n",
    "    df = df.fillna(value = {\"avg_comp_rate\": 0}) \n",
    "    \n",
    "    if file =='train':\n",
    "        df = df.drop(['gross_bookings_usd'],axis=1)\n",
    "\n",
    "    df[\"orig_destination_distance\"].fillna(df[\"orig_destination_distance\"].describe()[6], inplace=True)\n",
    "    df['visitor_hist_starrating'].fillna(df['visitor_hist_starrating'].median(axis = 0, skipna=True) ,inplace=True)\n",
    "    df['visitor_hist_adr_usd'].fillna(df['visitor_hist_adr_usd'].median(axis = 0, skipna=True),inplace=True)\n",
    "    df[\"srch_query_affinity_score\"].fillna(df[\"srch_query_affinity_score\"].min(), inplace=True)\n",
    "    \n",
    "    df['roomcount_bookwindow'] = df['srch_room_count']*max(df['srch_booking_window']) + df['srch_booking_window']\n",
    "    df['adultcount_childrencount'] = df['srch_adults_count']*max(df['srch_children_count']) + df['srch_children_count']\n",
    "    return df"
   ]
  },
  {
   "cell_type": "code",
   "execution_count": null,
   "metadata": {},
   "outputs": [],
   "source": [
    "# hotel_quality = pd.DataFrame(dataset.prop_id.value_counts(dropna = False))\n",
    "#         #print(hotel_quality.head())\n",
    "# hotel_quality = hotel_quality.join(pd.DataFrame(dataset.prop_id[dataset.booking_bool == 1].value_counts().astype(int)), rsuffix = \"book\")\n",
    "# hotel_quality = hotel_quality.join(pd.DataFrame(dataset.prop_id[dataset.click_bool == 1].value_counts().astype(int)), rsuffix = \"click\")\n",
    "# hotel_quality.columns = [\"counts\", \"booked\", \"clicked\"]\n",
    "\n",
    "# hotel_quality[\"booked_percentage\"] = hotel_quality.booked / hotel_quality.counts * 100\n",
    "# hotel_quality[\"clicked_percentage\"] = hotel_quality.clicked / hotel_quality.counts * 100\n",
    "\n",
    "# data = data.join(hotel_quality.booked_percentage, on = \"prop_id\")\n",
    "# data = data.join(hotel_quality.clicked_percentage, on = \"prop_id\")\n",
    "# #filling Nan with mean\n",
    "# data = data.fillna(value = {\"booked_percentage\": 1.92, \"clicked_percentage\": 2.74})"
   ]
  },
  {
   "cell_type": "code",
   "execution_count": null,
   "metadata": {},
   "outputs": [],
   "source": []
  }
 ],
 "metadata": {
  "kernelspec": {
   "display_name": "Python 3",
   "language": "python",
   "name": "python3"
  },
  "language_info": {
   "codemirror_mode": {
    "name": "ipython",
    "version": 3
   },
   "file_extension": ".py",
   "mimetype": "text/x-python",
   "name": "python",
   "nbconvert_exporter": "python",
   "pygments_lexer": "ipython3",
   "version": "3.7.3"
  }
 },
 "nbformat": 4,
 "nbformat_minor": 2
}
