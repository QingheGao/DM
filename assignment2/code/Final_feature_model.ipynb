{
 "cells": [
  {
   "cell_type": "code",
   "execution_count": 1,
   "metadata": {},
   "outputs": [
    {
     "name": "stderr",
     "output_type": "stream",
     "text": [
      "/Users/hernando/anaconda3/lib/python3.7/site-packages/statsmodels/tools/_testing.py:19: FutureWarning: pandas.util.testing is deprecated. Use the functions in the public API at pandas.testing instead.\n",
      "  import pandas.util.testing as tm\n"
     ]
    }
   ],
   "source": [
    "import pandas as pd\n",
    "import numpy as np\n",
    "import matplotlib.pyplot as plt\n",
    "import seaborn as sns\n",
    "plt.style.use('seaborn-darkgrid')\n",
    "import warnings\n",
    "warnings.filterwarnings('ignore')\n",
    "\n",
    "import time\n",
    "import argparse\n",
    "import gc\n",
    "import pandas\n",
    "import lightgbm"
   ]
  },
  {
   "cell_type": "code",
   "execution_count": 2,
   "metadata": {},
   "outputs": [],
   "source": [
    "train = pd.read_csv('/Users/hernando/Desktop/datamining1/assign2/2nd-assignment-dmt-2020/training_set_VU_DM.csv',sep=',')\n",
    "# test = pd.read_csv('/Users/hernando/Desktop/datamining1/assign2/2nd-assignment-dmt-2020/test_set_VU_DM.csv',sep=',')"
   ]
  },
  {
   "cell_type": "code",
   "execution_count": 8,
   "metadata": {},
   "outputs": [],
   "source": [
    "train_copy = train.copy()\n",
    "# test_copy = test.copy()"
   ]
  },
  {
   "cell_type": "code",
   "execution_count": 9,
   "metadata": {},
   "outputs": [],
   "source": [
    "target_score = [train_copy[\"click_bool\"] == 1,train_copy[\"booking_bool\"] == 1]\n",
    "choices = [1, 2]\n",
    "train_copy['score'] = np.select(target_score, choices, default=0)\n",
    "# score_final = data_training['score'].values"
   ]
  },
  {
   "cell_type": "code",
   "execution_count": 10,
   "metadata": {},
   "outputs": [],
   "source": [
    "def missing_data_process(df,file):\n",
    "    \n",
    "    df['avg_comp_rate'] = df[['comp1_rate', 'comp2_rate', 'comp3_rate', 'comp4_rate', 'comp5_rate', 'comp6_rate', 'comp7_rate', 'comp8_rate']].mean(axis=1)\n",
    "    df = df.drop(['comp1_rate', \"comp1_inv\", \"comp1_rate_percent_diff\", 'comp2_rate', \"comp2_inv\", \"comp2_rate_percent_diff\", 'comp3_rate', \"comp3_inv\", \"comp3_rate_percent_diff\", 'comp4_rate', \"comp4_inv\", \"comp4_rate_percent_diff\", 'comp5_rate', \"comp5_inv\", \"comp5_rate_percent_diff\", 'comp6_rate', \"comp6_inv\", \"comp6_rate_percent_diff\", 'comp7_rate', \"comp7_inv\", \"comp7_rate_percent_diff\", 'comp8_rate', \"comp8_inv\", \"comp8_rate_percent_diff\"], axis = 1)\n",
    "    df = df.fillna(value = {\"avg_comp_rate\": 0}) \n",
    "    \n",
    "    if file =='train':\n",
    "        df = df.drop(['gross_bookings_usd'],axis=1)\n",
    "\n",
    "    df[\"orig_destination_distance\"].fillna(df[\"orig_destination_distance\"].describe()[6], inplace=True)\n",
    "    df['visitor_hist_starrating'].fillna(df['visitor_hist_starrating'].median(axis = 0, skipna=True) ,inplace=True)\n",
    "    df['visitor_hist_adr_usd'].fillna(df['visitor_hist_adr_usd'].median(axis = 0, skipna=True),inplace=True)\n",
    "    df[\"srch_query_affinity_score\"].fillna(df[\"srch_query_affinity_score\"].min(), inplace=True)\n",
    "    df['roomcount_bookwindow'] = df['srch_room_count']*max(df['srch_booking_window']) + df['srch_booking_window']\n",
    "    df['adultcount_childrencount'] = df['srch_adults_count']*max(df['srch_children_count']) + df['srch_children_count']\n",
    "    \n",
    "    return df"
   ]
  },
  {
   "cell_type": "code",
   "execution_count": 11,
   "metadata": {},
   "outputs": [],
   "source": [
    "train_change = missing_data_process(train_copy,file='train')\n",
    "# test_change = missing_data_process(test,file='test')"
   ]
  },
  {
   "cell_type": "code",
   "execution_count": 27,
   "metadata": {},
   "outputs": [
    {
     "data": {
      "text/html": [
       "<div>\n",
       "<style scoped>\n",
       "    .dataframe tbody tr th:only-of-type {\n",
       "        vertical-align: middle;\n",
       "    }\n",
       "\n",
       "    .dataframe tbody tr th {\n",
       "        vertical-align: top;\n",
       "    }\n",
       "\n",
       "    .dataframe thead th {\n",
       "        text-align: right;\n",
       "    }\n",
       "</style>\n",
       "<table border=\"1\" class=\"dataframe\">\n",
       "  <thead>\n",
       "    <tr style=\"text-align: right;\">\n",
       "      <th></th>\n",
       "      <th>Missing Ratio</th>\n",
       "    </tr>\n",
       "  </thead>\n",
       "  <tbody>\n",
       "    <tr>\n",
       "      <th>srch_id_norm_prop_location_score2</th>\n",
       "      <td>22.107190</td>\n",
       "    </tr>\n",
       "    <tr>\n",
       "      <th>Substract_srch_id_norm_prop_location_score2</th>\n",
       "      <td>21.995588</td>\n",
       "    </tr>\n",
       "    <tr>\n",
       "      <th>prop_location_score2</th>\n",
       "      <td>21.995588</td>\n",
       "    </tr>\n",
       "    <tr>\n",
       "      <th>Mean_srch_id_norm_prop_location_score2</th>\n",
       "      <td>1.856846</td>\n",
       "    </tr>\n",
       "    <tr>\n",
       "      <th>srch_id_norm_prop_starrating</th>\n",
       "      <td>1.820990</td>\n",
       "    </tr>\n",
       "    <tr>\n",
       "      <th>prop_id_norm_price_usd</th>\n",
       "      <td>0.318359</td>\n",
       "    </tr>\n",
       "    <tr>\n",
       "      <th>srch_id_norm_prop_review_score</th>\n",
       "      <td>0.195210</td>\n",
       "    </tr>\n",
       "    <tr>\n",
       "      <th>Substract_srch_id_norm_prop_review_score</th>\n",
       "      <td>0.148672</td>\n",
       "    </tr>\n",
       "    <tr>\n",
       "      <th>prop_review_score</th>\n",
       "      <td>0.148672</td>\n",
       "    </tr>\n",
       "    <tr>\n",
       "      <th>srch_id_norm_prop_location_score1</th>\n",
       "      <td>0.021077</td>\n",
       "    </tr>\n",
       "    <tr>\n",
       "      <th>Mean_srch_id_norm_prop_review_score</th>\n",
       "      <td>0.000206</td>\n",
       "    </tr>\n",
       "  </tbody>\n",
       "</table>\n",
       "</div>"
      ],
      "text/plain": [
       "                                             Missing Ratio\n",
       "srch_id_norm_prop_location_score2                22.107190\n",
       "Substract_srch_id_norm_prop_location_score2      21.995588\n",
       "prop_location_score2                             21.995588\n",
       "Mean_srch_id_norm_prop_location_score2            1.856846\n",
       "srch_id_norm_prop_starrating                      1.820990\n",
       "prop_id_norm_price_usd                            0.318359\n",
       "srch_id_norm_prop_review_score                    0.195210\n",
       "Substract_srch_id_norm_prop_review_score          0.148672\n",
       "prop_review_score                                 0.148672\n",
       "srch_id_norm_prop_location_score1                 0.021077\n",
       "Mean_srch_id_norm_prop_review_score               0.000206"
      ]
     },
     "execution_count": 27,
     "metadata": {},
     "output_type": "execute_result"
    }
   ],
   "source": [
    "all_data_na = (for_train.isnull().sum() / len(for_train)) * 100\n",
    "all_data_na = all_data_na.drop(all_data_na[all_data_na == 0].index).sort_values(ascending=False)\n",
    "missing_data = pd.DataFrame({'Missing Ratio' :all_data_na})\n",
    "missing_data"
   ]
  },
  {
   "cell_type": "code",
   "execution_count": 16,
   "metadata": {},
   "outputs": [
    {
     "data": {
      "text/html": [
       "<div>\n",
       "<style scoped>\n",
       "    .dataframe tbody tr th:only-of-type {\n",
       "        vertical-align: middle;\n",
       "    }\n",
       "\n",
       "    .dataframe tbody tr th {\n",
       "        vertical-align: top;\n",
       "    }\n",
       "\n",
       "    .dataframe thead th {\n",
       "        text-align: right;\n",
       "    }\n",
       "</style>\n",
       "<table border=\"1\" class=\"dataframe\">\n",
       "  <thead>\n",
       "    <tr style=\"text-align: right;\">\n",
       "      <th></th>\n",
       "      <th>Missing Ratio</th>\n",
       "    </tr>\n",
       "  </thead>\n",
       "  <tbody>\n",
       "    <tr>\n",
       "      <th>prop_location_score2</th>\n",
       "      <td>21.939743</td>\n",
       "    </tr>\n",
       "    <tr>\n",
       "      <th>prop_review_score</th>\n",
       "      <td>0.146516</td>\n",
       "    </tr>\n",
       "  </tbody>\n",
       "</table>\n",
       "</div>"
      ],
      "text/plain": [
       "                      Missing Ratio\n",
       "prop_location_score2      21.939743\n",
       "prop_review_score          0.146516"
      ]
     },
     "execution_count": 16,
     "metadata": {},
     "output_type": "execute_result"
    }
   ],
   "source": [
    "all_data_na = (test_change.isnull().sum() / len(test_change)) * 100\n",
    "all_data_na = all_data_na.drop(all_data_na[all_data_na == 0].index).sort_values(ascending=False)\n",
    "missing_data = pd.DataFrame({'Missing Ratio' :all_data_na})\n",
    "missing_data"
   ]
  },
  {
   "cell_type": "code",
   "execution_count": 7,
   "metadata": {},
   "outputs": [],
   "source": [
    "def log_ten(input_,target):\n",
    "    input_data = input_.copy()\n",
    "    \n",
    "    input_data[target] = np.log10(input_data[target] + 1e-4)\n",
    "    return input_data\n",
    "\n",
    "\n",
    "def normalize_combine(input_, group, target, combine = 'normal'):\n",
    "    input_data = input_.copy()\n",
    "    methods=['mean','std']\n",
    "    df = input_data.groupby(group).agg({target: methods})\n",
    "    ##drop the firs layer of column\n",
    "    df.columns = df.columns.droplevel()\n",
    "    col = {}\n",
    "    for method in methods:\n",
    "        col[method] = target + \"_\" + method\n",
    "    df.rename(columns=col, inplace=True)\n",
    "    merge_data = input_data.merge(df.reset_index(), on=group)\n",
    "#     print(merge_data)\n",
    "    \n",
    "    ##using now price - mean /std\n",
    "    if combine =='normal':\n",
    "        merge_data[group + \"_norm_\" + target] = (merge_data[target] - merge_data[target + \"_mean\"]) /merge_data[target + \"_std\"]\n",
    "        merge_data = merge_data.drop(labels=[col[\"mean\"], col[\"std\"]], axis=1)\n",
    "    else:\n",
    "        merge_data['Mean_' + group + \"_norm_\" + target] = merge_data[target + \"_mean\"]\n",
    "        merge_data['Substract_' + group + \"_norm_\" + target] =(merge_data[target] - merge_data[target + \"_mean\"])\n",
    "        merge_data = merge_data.drop(labels=[col[\"mean\"], col[\"std\"]], axis=1)\n",
    "    gc.collect()\n",
    "    return merge_data\n",
    "\n",
    "def data_processing(original_data, catogery = 'train'):\n",
    "    print('Begin data processing>>>>>>>')\n",
    "    gc.collect()\n",
    "    data_training = original_data.copy()\n",
    "    \n",
    "    if catogery == \"train\":\n",
    "        target_score = [data_training[\"click_bool\"] == 1,data_training[\"booking_bool\"] == 1]\n",
    "        choices = [1, 2]\n",
    "        data_training['score'] = np.select(target_score, choices, default=0)\n",
    "        score_final = data_training['score'].values\n",
    "    else:\n",
    "        score_final=1\n",
    "    \n",
    "    ##processing date column\n",
    "    dates = pandas.to_datetime(data_training[\"date_time\"])\n",
    "    data_training[\"month\"] = dates.dt.month\n",
    "    data_training[\"dayofweek\"] = dates.dt.dayofweek\n",
    "    data_training[\"hour\"] = dates.dt.hour\n",
    "    \n",
    "    print(\"Normalize training data>>>>>>\")\n",
    "    data_training = log_ten(data_training,\"price_usd\")\n",
    "    ## for price_use\n",
    "    data_training = normalize_combine(data_training,\"srch_id\",\"price_usd\", combine='normal')\n",
    "    data_training = normalize_combine(data_training,\"prop_id\",\"price_usd\", combine='normal')\n",
    "    \n",
    "    ## for star\n",
    "    data_training = normalize_combine(data_training,\"srch_id\",\"prop_starrating\", combine='normal')\n",
    "#     data_training = normalize_combine(data_training,\"prop_id\",\"prop_starrating\", combine='normal')\n",
    "    \n",
    "    \n",
    "    print(\" Combine training data>>>>>>\")\n",
    "    ##for pop \n",
    "    data_training = normalize_combine(data_training,\"prop_id\",\"price_usd\",combine='combine')\n",
    "    data_training = normalize_combine(data_training,\"srch_id\",\"prop_starrating\",combine='combine')\n",
    "    \n",
    "    data_training = normalize_combine(data_training,\"srch_id\",\"prop_location_score2\",combine='combine')\n",
    "    data_training = normalize_combine(data_training,\"srch_id\",\"prop_location_score1\",combine='combine')\n",
    "    data_training = normalize_combine(data_training,\"srch_destination_id\",\"price_usd\",combine='combine')\n",
    "    data_training = normalize_combine(data_training,\"srch_id\",\"prop_review_score\",combine='combine')\n",
    "    data_training = normalize_combine(data_training,\"srch_id\",\"promotion_flag\",combine='combine')\n",
    "\n",
    "    print(\" Sort training data>>>>>>\")\n",
    "    data_training = data_training.sort_values(\"srch_id\")\n",
    "    data_training = normalize_combine(data_training,\"srch_id\",\"prop_starrating\", combine='normal')\n",
    "    data_training = normalize_combine(data_training,\"srch_id\",\"prop_location_score2\",combine='normal')\n",
    "    data_training = normalize_combine(data_training,\"srch_id\",\"prop_location_score1\",combine='normal')\n",
    "    data_training = normalize_combine(data_training,\"srch_id\",\"prop_review_score\", combine='normal')\n",
    "    gc.collect()\n",
    "    \n",
    "    #remove useless column\n",
    "    if catogery == 'train':\n",
    "        data_training = data_training.drop([\"click_bool\", \"booking_bool\",\"date_time\",'score'], axis=1)\n",
    "        \n",
    "\n",
    "    return data_training,score_final\n",
    "    "
   ]
  },
  {
   "cell_type": "markdown",
   "metadata": {},
   "source": [
    "# processing train"
   ]
  },
  {
   "cell_type": "code",
   "execution_count": 8,
   "metadata": {},
   "outputs": [],
   "source": [
    "def combine_normal(train_change):\n",
    "\n",
    "    train_10 = log_ten(train_change,\"price_usd\")\n",
    "    train_10 = normalize_combine(train_10,\"srch_id\",\"price_usd\", combine='normal')\n",
    "    train_10 = normalize_combine(train_10,\"prop_id\",\"price_usd\", combine='normal')\n",
    "    train_10 = normalize_combine(train_10,\"srch_id\",\"prop_starrating\", combine='normal')\n",
    "    \n",
    "    train_10 = normalize_combine(train_10,\"prop_id\",\"price_usd\",combine='combine')\n",
    "    train_10 = normalize_combine(train_10,\"srch_id\",\"prop_starrating\",combine='combine')\n",
    "    train_10 = normalize_combine(train_10,\"srch_id\",\"prop_location_score2\",combine='combine')\n",
    "    train_10 = normalize_combine(train_10,\"srch_id\",\"prop_location_score1\",combine='combine')\n",
    "    train_10 = normalize_combine(train_10,\"srch_destination_id\",\"price_usd\",combine='combine')\n",
    "    train_10 = normalize_combine(train_10,\"srch_id\",\"prop_review_score\",combine='combine')\n",
    "    train_10 = normalize_combine(train_10,\"srch_id\",\"promotion_flag\",combine='combine')\n",
    "    train_30 = train_10.drop(['Substract_srch_destination_id_norm_price_usd'],axis=1)\n",
    "    \n",
    "    train_30 = train_30.sort_values(\"srch_id\")\n",
    "    train_30 = normalize_combine(train_30,\"srch_id\",\"prop_starrating\", combine='normal')\n",
    "    train_30 = normalize_combine(train_30,\"srch_id\",\"prop_location_score2\",combine='normal')\n",
    "    train_30 = normalize_combine(train_30,\"srch_id\",\"prop_location_score1\",combine='normal')\n",
    "    train_30 = normalize_combine(train_30,\"srch_id\",\"prop_review_score\", combine='normal')\n",
    "\n",
    "    return train_30\n"
   ]
  },
  {
   "cell_type": "code",
   "execution_count": 9,
   "metadata": {},
   "outputs": [],
   "source": [
    "train_30 = combine_normal(train_change)"
   ]
  },
  {
   "cell_type": "code",
   "execution_count": 10,
   "metadata": {},
   "outputs": [],
   "source": [
    "target_score = [train_30[\"click_bool\"] == 1,train_30[\"booking_bool\"] == 1]\n",
    "choices = [1, 2]\n",
    "train_30['score'] = np.select(target_score, choices, default=0)\n",
    "score_final = train_30['score'].values\n",
    "\n",
    "dates = pandas.to_datetime(train_30[\"date_time\"])\n",
    "train_30[\"month\"] = dates.dt.month\n",
    "train_30[\"dayofweek\"] = dates.dt.dayofweek\n",
    "train_30[\"hour\"] = dates.dt.hour\n",
    "\n",
    "train_30  = train_30.drop([\"click_bool\", \"booking_bool\",\"date_time\",'score'], axis=1)"
   ]
  },
  {
   "cell_type": "code",
   "execution_count": 43,
   "metadata": {},
   "outputs": [],
   "source": [
    "train_30.to_csv('after_combine_missing.csv',index=False)\n",
    "# len(for_train.columns)"
   ]
  },
  {
   "cell_type": "code",
   "execution_count": 2,
   "metadata": {},
   "outputs": [],
   "source": [
    "train_30 = pd.read_csv('after_combine_missing.csv')\n",
    "score_final = pd.read_csv('score_final.csv')"
   ]
  },
  {
   "cell_type": "code",
   "execution_count": 10,
   "metadata": {},
   "outputs": [],
   "source": [
    "# train_after_original = pd.read_csv('correct_answer.csv')\n",
    "# train_after_original = train_after_original.drop(['Unnamed: 0'],axis=1)"
   ]
  },
  {
   "cell_type": "code",
   "execution_count": 11,
   "metadata": {},
   "outputs": [],
   "source": [
    "def deal_position(input_):\n",
    "    df = input_.copy()\n",
    "    position_dict = df.loc[df[\"random_bool\"] == 0]\n",
    "    ##main idea is using \"srch_destination_id\", \"prop_id\" to deal with position\n",
    "    \n",
    "    ##srch_destination_id:ID of the destination where the hotel search was performed\n",
    "    ## ID of hotel:The ID of the hotel\n",
    "    position_dict = df.groupby([\"srch_destination_id\", \"prop_id\"]).agg({\"position\": \"mean\"})\n",
    "    ##let the srch_destination_id prop_id become column\n",
    "    position_dict = position_dict.rename(index=str, columns={\"position\": \"es_position\"}).reset_index()\n",
    "    position_dict[\"srch_destination_id\"] = position_dict[\"srch_destination_id\"].astype(int)\n",
    "    position_dict[\"prop_id\"] = position_dict[\"prop_id\"].astype(int)\n",
    "    position_dict[\"es_position\"] = (1 / position_dict[\"es_position\"])\n",
    "    \n",
    "    return position_dict\n",
    "\n",
    "\n",
    "\n",
    "def pre_train_valid(input_,score):\n",
    "    df = input_.copy()\n",
    "    for_train = df[100000:]\n",
    "    for_valid = df[0:100000]\n",
    "    y_for_train = score[100000:]\n",
    "    y_for_valid = score[0:100000]\n",
    "    \n",
    "    #for prediction\n",
    "    print('Pre position>>>>>>>>.')\n",
    "    predict_dict = deal_position(df)\n",
    "\n",
    "    for_train = for_train.merge(predict_dict, how=\"left\", on=[\"srch_destination_id\", \"prop_id\"])\n",
    "    for_valid = for_valid.merge(predict_dict, how=\"left\", on=[\"srch_destination_id\", \"prop_id\"])\n",
    "    ###gruop number of srch_id -person\n",
    "    train_person = for_train[\"srch_id\"].value_counts(sort=False).sort_index()\n",
    "    vali_person = for_valid[\"srch_id\"].value_counts(sort=False).sort_index()\n",
    "    \n",
    "    for_train = for_train.drop([\"srch_id\",'position',\"prop_id\",\"random_bool\"],axis=1)\n",
    "    for_valid = for_valid.drop([\"srch_id\",'position',\"prop_id\",\"random_bool\"],axis=1)\n",
    "    \n",
    "    \n",
    "    return for_train, for_valid, y_for_train, y_for_valid, train_person, vali_person,predict_dict\n",
    "    \n",
    "    "
   ]
  },
  {
   "cell_type": "code",
   "execution_count": 12,
   "metadata": {},
   "outputs": [
    {
     "name": "stdout",
     "output_type": "stream",
     "text": [
      "Pre position>>>>>>>>.\n"
     ]
    }
   ],
   "source": [
    "for_train, for_valid, y_for_train, y_for_valid, train_person, vali_person,predict_dict = pre_train_valid(train_30, score_final)"
   ]
  },
  {
   "cell_type": "code",
   "execution_count": 22,
   "metadata": {},
   "outputs": [],
   "source": [
    "def pre_model(for_train, for_valid, y_for_train, y_for_valid, train_person, vali_person,):\n",
    "    str(int(time.time()))\n",
    "    \n",
    "    features_cato = [\"site_id\",\"month\",\"prop_country_id\",\"visitor_location_country_id\",]\n",
    "    catogery_feature = [for_train.columns.get_loc(x) for x in features_cato]\n",
    "    print(catogery_feature)\n",
    "    \n",
    "    lgbm = lightgbm.LGBMRanker(n_estimators=1500, learning_rate=0.12, max_position=5,label_gain=[0, 1, 2],\n",
    "                               random_state=69,\n",
    "                                seed=69,\n",
    "                                boosting=\"dart\",\n",
    "                              objective=\"lambdarank\",\n",
    "                                metric=\"ndcg\",)\n",
    "    lgbm.fit(for_train,y_for_train,eval_set=[(for_train,y_for_train), (for_valid, y_for_valid)],eval_group=[train_person, vali_person],group=train_person,eval_at=5,\n",
    "         verbose=20,\n",
    "        early_stopping_rounds=200,\n",
    "        categorical_feature= catogery_feature)\n",
    "    \n",
    "    return lgbm"
   ]
  },
  {
   "cell_type": "code",
   "execution_count": 23,
   "metadata": {},
   "outputs": [
    {
     "name": "stdout",
     "output_type": "stream",
     "text": [
      "[0, 42, 4, 1]\n",
      "[20]\ttraining's ndcg@5: 0.402322\tvalid_1's ndcg@5: 0.403171\n",
      "[40]\ttraining's ndcg@5: 0.405727\tvalid_1's ndcg@5: 0.406292\n",
      "[60]\ttraining's ndcg@5: 0.408288\tvalid_1's ndcg@5: 0.406521\n",
      "[80]\ttraining's ndcg@5: 0.409978\tvalid_1's ndcg@5: 0.405273\n",
      "[100]\ttraining's ndcg@5: 0.413584\tvalid_1's ndcg@5: 0.410314\n",
      "[120]\ttraining's ndcg@5: 0.417511\tvalid_1's ndcg@5: 0.411606\n",
      "[140]\ttraining's ndcg@5: 0.419407\tvalid_1's ndcg@5: 0.411519\n",
      "[160]\ttraining's ndcg@5: 0.420485\tvalid_1's ndcg@5: 0.41173\n",
      "[180]\ttraining's ndcg@5: 0.421516\tvalid_1's ndcg@5: 0.412616\n",
      "[200]\ttraining's ndcg@5: 0.423096\tvalid_1's ndcg@5: 0.411401\n",
      "[220]\ttraining's ndcg@5: 0.424129\tvalid_1's ndcg@5: 0.412999\n",
      "[240]\ttraining's ndcg@5: 0.426217\tvalid_1's ndcg@5: 0.413348\n",
      "[260]\ttraining's ndcg@5: 0.427365\tvalid_1's ndcg@5: 0.414623\n",
      "[280]\ttraining's ndcg@5: 0.428218\tvalid_1's ndcg@5: 0.413539\n",
      "[300]\ttraining's ndcg@5: 0.429754\tvalid_1's ndcg@5: 0.413951\n",
      "[320]\ttraining's ndcg@5: 0.431151\tvalid_1's ndcg@5: 0.414718\n",
      "[340]\ttraining's ndcg@5: 0.433091\tvalid_1's ndcg@5: 0.416498\n",
      "[360]\ttraining's ndcg@5: 0.434521\tvalid_1's ndcg@5: 0.41601\n",
      "[380]\ttraining's ndcg@5: 0.435682\tvalid_1's ndcg@5: 0.416469\n",
      "[400]\ttraining's ndcg@5: 0.436524\tvalid_1's ndcg@5: 0.416965\n",
      "[420]\ttraining's ndcg@5: 0.43802\tvalid_1's ndcg@5: 0.416603\n",
      "[440]\ttraining's ndcg@5: 0.43916\tvalid_1's ndcg@5: 0.416581\n",
      "[460]\ttraining's ndcg@5: 0.440845\tvalid_1's ndcg@5: 0.417098\n",
      "[480]\ttraining's ndcg@5: 0.442018\tvalid_1's ndcg@5: 0.417938\n",
      "[500]\ttraining's ndcg@5: 0.443222\tvalid_1's ndcg@5: 0.417123\n",
      "[520]\ttraining's ndcg@5: 0.443558\tvalid_1's ndcg@5: 0.418111\n",
      "[540]\ttraining's ndcg@5: 0.444137\tvalid_1's ndcg@5: 0.418294\n",
      "[560]\ttraining's ndcg@5: 0.443992\tvalid_1's ndcg@5: 0.417291\n",
      "[580]\ttraining's ndcg@5: 0.444912\tvalid_1's ndcg@5: 0.416897\n",
      "[600]\ttraining's ndcg@5: 0.445153\tvalid_1's ndcg@5: 0.416369\n",
      "[620]\ttraining's ndcg@5: 0.445379\tvalid_1's ndcg@5: 0.417\n",
      "[640]\ttraining's ndcg@5: 0.446005\tvalid_1's ndcg@5: 0.41782\n",
      "[660]\ttraining's ndcg@5: 0.446841\tvalid_1's ndcg@5: 0.417141\n",
      "[680]\ttraining's ndcg@5: 0.446978\tvalid_1's ndcg@5: 0.417046\n",
      "[700]\ttraining's ndcg@5: 0.447903\tvalid_1's ndcg@5: 0.417315\n",
      "[720]\ttraining's ndcg@5: 0.448416\tvalid_1's ndcg@5: 0.416768\n",
      "[740]\ttraining's ndcg@5: 0.449285\tvalid_1's ndcg@5: 0.416925\n",
      "[760]\ttraining's ndcg@5: 0.450263\tvalid_1's ndcg@5: 0.417714\n",
      "[780]\ttraining's ndcg@5: 0.451142\tvalid_1's ndcg@5: 0.416813\n",
      "[800]\ttraining's ndcg@5: 0.452508\tvalid_1's ndcg@5: 0.417461\n",
      "[820]\ttraining's ndcg@5: 0.453583\tvalid_1's ndcg@5: 0.418444\n",
      "[840]\ttraining's ndcg@5: 0.454182\tvalid_1's ndcg@5: 0.419027\n",
      "[860]\ttraining's ndcg@5: 0.455325\tvalid_1's ndcg@5: 0.419843\n",
      "[880]\ttraining's ndcg@5: 0.455931\tvalid_1's ndcg@5: 0.42077\n",
      "[900]\ttraining's ndcg@5: 0.456378\tvalid_1's ndcg@5: 0.422345\n",
      "[920]\ttraining's ndcg@5: 0.457315\tvalid_1's ndcg@5: 0.421918\n",
      "[940]\ttraining's ndcg@5: 0.457819\tvalid_1's ndcg@5: 0.422245\n",
      "[960]\ttraining's ndcg@5: 0.458741\tvalid_1's ndcg@5: 0.42145\n",
      "[980]\ttraining's ndcg@5: 0.459715\tvalid_1's ndcg@5: 0.421667\n",
      "[1000]\ttraining's ndcg@5: 0.460784\tvalid_1's ndcg@5: 0.421531\n",
      "[1020]\ttraining's ndcg@5: 0.461545\tvalid_1's ndcg@5: 0.420024\n",
      "[1040]\ttraining's ndcg@5: 0.462045\tvalid_1's ndcg@5: 0.420464\n",
      "[1060]\ttraining's ndcg@5: 0.463153\tvalid_1's ndcg@5: 0.420628\n",
      "[1080]\ttraining's ndcg@5: 0.463743\tvalid_1's ndcg@5: 0.420891\n",
      "[1100]\ttraining's ndcg@5: 0.464657\tvalid_1's ndcg@5: 0.420765\n",
      "[1120]\ttraining's ndcg@5: 0.466127\tvalid_1's ndcg@5: 0.42147\n",
      "[1140]\ttraining's ndcg@5: 0.466952\tvalid_1's ndcg@5: 0.420933\n",
      "[1160]\ttraining's ndcg@5: 0.467271\tvalid_1's ndcg@5: 0.421081\n",
      "[1180]\ttraining's ndcg@5: 0.467876\tvalid_1's ndcg@5: 0.420867\n",
      "[1200]\ttraining's ndcg@5: 0.468369\tvalid_1's ndcg@5: 0.422096\n",
      "[1220]\ttraining's ndcg@5: 0.469193\tvalid_1's ndcg@5: 0.420783\n",
      "[1240]\ttraining's ndcg@5: 0.469638\tvalid_1's ndcg@5: 0.420369\n",
      "[1260]\ttraining's ndcg@5: 0.470474\tvalid_1's ndcg@5: 0.420512\n",
      "[1280]\ttraining's ndcg@5: 0.470944\tvalid_1's ndcg@5: 0.420221\n",
      "[1300]\ttraining's ndcg@5: 0.471221\tvalid_1's ndcg@5: 0.420133\n",
      "[1320]\ttraining's ndcg@5: 0.472054\tvalid_1's ndcg@5: 0.420434\n",
      "[1340]\ttraining's ndcg@5: 0.472645\tvalid_1's ndcg@5: 0.421116\n",
      "[1360]\ttraining's ndcg@5: 0.473145\tvalid_1's ndcg@5: 0.41952\n",
      "[1380]\ttraining's ndcg@5: 0.474246\tvalid_1's ndcg@5: 0.419268\n",
      "[1400]\ttraining's ndcg@5: 0.475175\tvalid_1's ndcg@5: 0.418641\n",
      "[1420]\ttraining's ndcg@5: 0.475714\tvalid_1's ndcg@5: 0.418247\n",
      "[1440]\ttraining's ndcg@5: 0.476447\tvalid_1's ndcg@5: 0.417901\n",
      "[1460]\ttraining's ndcg@5: 0.476957\tvalid_1's ndcg@5: 0.418656\n",
      "[1480]\ttraining's ndcg@5: 0.47762\tvalid_1's ndcg@5: 0.41967\n",
      "[1500]\ttraining's ndcg@5: 0.478551\tvalid_1's ndcg@5: 0.417901\n"
     ]
    }
   ],
   "source": [
    "lgbm =pre_model(for_train, for_valid, y_for_train, y_for_valid, train_person, vali_person,)"
   ]
  },
  {
   "cell_type": "code",
   "execution_count": 24,
   "metadata": {},
   "outputs": [
    {
     "data": {
      "text/plain": [
       "([0,\n",
       "  1,\n",
       "  2,\n",
       "  3,\n",
       "  4,\n",
       "  5,\n",
       "  6,\n",
       "  7,\n",
       "  8,\n",
       "  9,\n",
       "  10,\n",
       "  11,\n",
       "  12,\n",
       "  13,\n",
       "  14,\n",
       "  15,\n",
       "  16,\n",
       "  17,\n",
       "  18,\n",
       "  19,\n",
       "  20,\n",
       "  21,\n",
       "  22,\n",
       "  23,\n",
       "  24,\n",
       "  25,\n",
       "  26,\n",
       "  27,\n",
       "  28,\n",
       "  29,\n",
       "  30,\n",
       "  31,\n",
       "  32,\n",
       "  33,\n",
       "  34,\n",
       "  35,\n",
       "  36,\n",
       "  37,\n",
       "  38,\n",
       "  39,\n",
       "  40,\n",
       "  41,\n",
       "  42,\n",
       "  43,\n",
       "  44,\n",
       "  45],\n",
       " <a list of 46 Text xticklabel objects>)"
      ]
     },
     "execution_count": 24,
     "metadata": {},
     "output_type": "execute_result"
    },
    {
     "data": {
      "image/png": "[encoded data removed]",
      "text/plain": [
       "<Figure size 432x288 with 1 Axes>"
      ]
     },
     "metadata": {
      "needs_background": "light"
     },
     "output_type": "display_data"
    }
   ],
   "source": [
    "plt.bar(for_train.columns,lgbm.feature_importances_)\n",
    "plt.xticks(rotation=90)"
   ]
  },
  {
   "cell_type": "code",
   "execution_count": 16,
   "metadata": {},
   "outputs": [
    {
     "name": "stdout",
     "output_type": "stream",
     "text": [
      "[0, 42, 4, 1]\n",
      "[20]\ttraining's ndcg@5: 0.402322\tvalid_1's ndcg@5: 0.403171\n",
      "[40]\ttraining's ndcg@5: 0.405724\tvalid_1's ndcg@5: 0.406292\n",
      "[60]\ttraining's ndcg@5: 0.408709\tvalid_1's ndcg@5: 0.406257\n",
      "[80]\ttraining's ndcg@5: 0.409908\tvalid_1's ndcg@5: 0.408191\n",
      "[100]\ttraining's ndcg@5: 0.413648\tvalid_1's ndcg@5: 0.408588\n",
      "[120]\ttraining's ndcg@5: 0.417742\tvalid_1's ndcg@5: 0.410136\n",
      "[140]\ttraining's ndcg@5: 0.419257\tvalid_1's ndcg@5: 0.41238\n",
      "[160]\ttraining's ndcg@5: 0.420303\tvalid_1's ndcg@5: 0.413549\n",
      "[180]\ttraining's ndcg@5: 0.421618\tvalid_1's ndcg@5: 0.412952\n",
      "[200]\ttraining's ndcg@5: 0.422973\tvalid_1's ndcg@5: 0.413566\n",
      "[220]\ttraining's ndcg@5: 0.423844\tvalid_1's ndcg@5: 0.415128\n",
      "[240]\ttraining's ndcg@5: 0.426199\tvalid_1's ndcg@5: 0.415463\n",
      "[260]\ttraining's ndcg@5: 0.42733\tvalid_1's ndcg@5: 0.416175\n",
      "[280]\ttraining's ndcg@5: 0.428127\tvalid_1's ndcg@5: 0.415677\n",
      "[300]\ttraining's ndcg@5: 0.429603\tvalid_1's ndcg@5: 0.415492\n",
      "[320]\ttraining's ndcg@5: 0.431066\tvalid_1's ndcg@5: 0.416702\n",
      "[340]\ttraining's ndcg@5: 0.432821\tvalid_1's ndcg@5: 0.418074\n",
      "[360]\ttraining's ndcg@5: 0.434074\tvalid_1's ndcg@5: 0.416724\n",
      "[380]\ttraining's ndcg@5: 0.435557\tvalid_1's ndcg@5: 0.418724\n",
      "[400]\ttraining's ndcg@5: 0.43633\tvalid_1's ndcg@5: 0.418423\n",
      "[420]\ttraining's ndcg@5: 0.437791\tvalid_1's ndcg@5: 0.417738\n",
      "[440]\ttraining's ndcg@5: 0.439008\tvalid_1's ndcg@5: 0.419282\n",
      "[460]\ttraining's ndcg@5: 0.440898\tvalid_1's ndcg@5: 0.418942\n",
      "[480]\ttraining's ndcg@5: 0.442028\tvalid_1's ndcg@5: 0.418847\n",
      "[500]\ttraining's ndcg@5: 0.443116\tvalid_1's ndcg@5: 0.419808\n",
      "[520]\ttraining's ndcg@5: 0.443433\tvalid_1's ndcg@5: 0.420208\n",
      "[540]\ttraining's ndcg@5: 0.444223\tvalid_1's ndcg@5: 0.419312\n",
      "[560]\ttraining's ndcg@5: 0.444033\tvalid_1's ndcg@5: 0.417877\n",
      "[580]\ttraining's ndcg@5: 0.444861\tvalid_1's ndcg@5: 0.418708\n",
      "[600]\ttraining's ndcg@5: 0.445252\tvalid_1's ndcg@5: 0.419191\n",
      "[620]\ttraining's ndcg@5: 0.445356\tvalid_1's ndcg@5: 0.417815\n",
      "[640]\ttraining's ndcg@5: 0.445945\tvalid_1's ndcg@5: 0.4184\n",
      "[660]\ttraining's ndcg@5: 0.44697\tvalid_1's ndcg@5: 0.418454\n",
      "[680]\ttraining's ndcg@5: 0.447396\tvalid_1's ndcg@5: 0.419013\n",
      "[700]\ttraining's ndcg@5: 0.447897\tvalid_1's ndcg@5: 0.419074\n",
      "[720]\ttraining's ndcg@5: 0.448521\tvalid_1's ndcg@5: 0.419266\n",
      "[740]\ttraining's ndcg@5: 0.449237\tvalid_1's ndcg@5: 0.418931\n",
      "[760]\ttraining's ndcg@5: 0.4504\tvalid_1's ndcg@5: 0.417775\n",
      "[780]\ttraining's ndcg@5: 0.45124\tvalid_1's ndcg@5: 0.418292\n",
      "[800]\ttraining's ndcg@5: 0.452839\tvalid_1's ndcg@5: 0.419633\n",
      "[820]\ttraining's ndcg@5: 0.453979\tvalid_1's ndcg@5: 0.41903\n",
      "[840]\ttraining's ndcg@5: 0.454681\tvalid_1's ndcg@5: 0.419124\n",
      "[860]\ttraining's ndcg@5: 0.455592\tvalid_1's ndcg@5: 0.417803\n",
      "[880]\ttraining's ndcg@5: 0.456236\tvalid_1's ndcg@5: 0.41927\n",
      "[900]\ttraining's ndcg@5: 0.456842\tvalid_1's ndcg@5: 0.420598\n",
      "[920]\ttraining's ndcg@5: 0.457523\tvalid_1's ndcg@5: 0.420287\n",
      "[940]\ttraining's ndcg@5: 0.457873\tvalid_1's ndcg@5: 0.419545\n",
      "[960]\ttraining's ndcg@5: 0.458823\tvalid_1's ndcg@5: 0.419743\n",
      "[980]\ttraining's ndcg@5: 0.459519\tvalid_1's ndcg@5: 0.419268\n",
      "[1000]\ttraining's ndcg@5: 0.460806\tvalid_1's ndcg@5: 0.418197\n"
     ]
    }
   ],
   "source": [
    "lgbm =pre_model(for_train, for_valid, y_for_train, y_for_valid, train_person, vali_person,)"
   ]
  },
  {
   "cell_type": "code",
   "execution_count": 25,
   "metadata": {},
   "outputs": [
    {
     "data": {
      "text/plain": [
       "defaultdict(collections.OrderedDict,\n",
       "            {'training': OrderedDict([('ndcg@5', 0.47855121196509326)]),\n",
       "             'valid_1': OrderedDict([('ndcg@5', 0.41790134392686623)])})"
      ]
     },
     "execution_count": 25,
     "metadata": {},
     "output_type": "execute_result"
    }
   ],
   "source": [
    "lgbm.best_score_"
   ]
  },
  {
   "cell_type": "markdown",
   "metadata": {},
   "source": [
    "# predict_test"
   ]
  },
  {
   "cell_type": "code",
   "execution_count": 26,
   "metadata": {},
   "outputs": [],
   "source": [
    "test = pd.read_csv('/Users/hernando/Desktop/datamining1/assign2/2nd-assignment-dmt-2020/test_set_VU_DM.csv',sep=',')"
   ]
  },
  {
   "cell_type": "code",
   "execution_count": 29,
   "metadata": {},
   "outputs": [],
   "source": [
    "test_copy = test.copy()"
   ]
  },
  {
   "cell_type": "code",
   "execution_count": 30,
   "metadata": {},
   "outputs": [],
   "source": [
    "test_change = missing_data_process(test_copy,file='test')"
   ]
  },
  {
   "cell_type": "code",
   "execution_count": 31,
   "metadata": {},
   "outputs": [],
   "source": [
    "test_30 = combine_normal(test_change)\n",
    "dates = pandas.to_datetime(test_30[\"date_time\"])\n",
    "test_30[\"month\"] = dates.dt.month\n",
    "test_30[\"dayofweek\"] = dates.dt.dayofweek\n",
    "test_30[\"hour\"] = dates.dt.hour\n",
    "test_30  = test_30.drop([\"date_time\"], axis=1)"
   ]
  },
  {
   "cell_type": "code",
   "execution_count": 32,
   "metadata": {},
   "outputs": [],
   "source": [
    "for_test = test_30.merge(predict_dict, how=\"left\", on=[\"srch_destination_id\", \"prop_id\"])\n",
    "for_test = for_test.drop(['prop_id', 'random_bool', 'srch_id'],axis=1)"
   ]
  },
  {
   "cell_type": "code",
   "execution_count": 33,
   "metadata": {},
   "outputs": [
    {
     "data": {
      "text/plain": [
       "[0, 42, 4, 1]"
      ]
     },
     "execution_count": 33,
     "metadata": {},
     "output_type": "execute_result"
    }
   ],
   "source": [
    "features_cato = [\"site_id\",\"month\",\"prop_country_id\",\"visitor_location_country_id\",]\n",
    "\n",
    "catogrey_for_test = [for_test.columns.get_loc(x) for x in features_cato]\n",
    "catogrey_for_test"
   ]
  },
  {
   "cell_type": "code",
   "execution_count": 34,
   "metadata": {},
   "outputs": [],
   "source": [
    "kwargs = {\"categorical_feature\": catogrey_for_test}\n",
    "predictions = lgbm.predict(for_test, **kwargs)"
   ]
  },
  {
   "cell_type": "code",
   "execution_count": 38,
   "metadata": {},
   "outputs": [],
   "source": [
    "testforfinal= test_copy[[\"srch_id\", \"prop_id\"]]\n",
    "testforfinal[\"prediction\"] = predictions"
   ]
  },
  {
   "cell_type": "code",
   "execution_count": 42,
   "metadata": {},
   "outputs": [
    {
     "name": "stdout",
     "output_type": "stream",
     "text": [
      "\n",
      "Store the predictions...\n",
      "\n"
     ]
    }
   ],
   "source": [
    "test_set_submission_result = testforfinal.groupby([\"srch_id\"]).apply(\n",
    "        lambda x: x.sort_values([\"prediction\"], ascending=False)).reset_index(drop=True)\n",
    "print(\"\\nStore the predictions...\\n\")\n",
    "test_set_submission_result = test_set_submission_result.drop(\"prediction\", axis=1)\n",
    "# store the file to submit!\n",
    "test_set_submission_result.to_csv(\"submission_twice\", index=False)\n"
   ]
  },
  {
   "cell_type": "code",
   "execution_count": null,
   "metadata": {},
   "outputs": [],
   "source": []
  }
 ],
 "metadata": {
  "kernelspec": {
   "display_name": "Python 3",
   "language": "python",
   "name": "python3"
  },
  "language_info": {
   "codemirror_mode": {
    "name": "ipython",
    "version": 3
   },
   "file_extension": ".py",
   "mimetype": "text/x-python",
   "name": "python",
   "nbconvert_exporter": "python",
   "pygments_lexer": "ipython3",
   "version": "3.7.3"
  }
 },
 "nbformat": 4,
 "nbformat_minor": 2
}
